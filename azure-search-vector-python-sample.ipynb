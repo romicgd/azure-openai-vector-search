{
 "cells": [
  {
   "attachments": {},
   "cell_type": "markdown",
   "metadata": {},
   "source": [
    "# Azure Cognitive Search Vector Search Code Sample with Azure OpenAI\n",
    "This code demonstrates how to use Azure Cognitive Search with OpenAI and Azure Python SDK\n",
    "## Prerequisites\n",
    "To run the code, install the following packages. Please note that the `pip install azure-search-documents==11.4.0a20230509004` is currently using the Dev Feed. For instructions on how to connect to the dev feed, please visit [Azure-Python-SDK Azure Search Documents Dev Feed](https://dev.azure.com/azure-sdk/public/_artifacts/feed/azure-sdk-for-python/connect/pip)."
   ]
  },
  {
   "cell_type": "code",
   "execution_count": 1,
   "metadata": {},
   "outputs": [
    {
     "name": "stdout",
     "output_type": "stream",
     "text": [
      "Requirement already satisfied: azure-search-documents==11.4.0a20230509004 in c:\\apps\\python\\python311\\lib\\site-packages (11.4.0a20230509004)\n",
      "Requirement already satisfied: azure-core<2.0.0,>=1.24.0 in c:\\apps\\python\\python311\\lib\\site-packages (from azure-search-documents==11.4.0a20230509004) (1.27.0)\n",
      "Requirement already satisfied: azure-common~=1.1 in c:\\apps\\python\\python311\\lib\\site-packages (from azure-search-documents==11.4.0a20230509004) (1.1.28)\n",
      "Requirement already satisfied: isodate>=0.6.0 in c:\\apps\\python\\python311\\lib\\site-packages (from azure-search-documents==11.4.0a20230509004) (0.6.1)\n",
      "Requirement already satisfied: requests>=2.18.4 in c:\\apps\\python\\python311\\lib\\site-packages (from azure-core<2.0.0,>=1.24.0->azure-search-documents==11.4.0a20230509004) (2.30.0)\n",
      "Requirement already satisfied: six>=1.11.0 in c:\\apps\\python\\python311\\lib\\site-packages (from azure-core<2.0.0,>=1.24.0->azure-search-documents==11.4.0a20230509004) (1.16.0)\n",
      "Requirement already satisfied: typing-extensions>=4.3.0 in c:\\apps\\python\\python311\\lib\\site-packages (from azure-core<2.0.0,>=1.24.0->azure-search-documents==11.4.0a20230509004) (4.6.2)\n",
      "Requirement already satisfied: charset-normalizer<4,>=2 in c:\\apps\\python\\python311\\lib\\site-packages (from requests>=2.18.4->azure-core<2.0.0,>=1.24.0->azure-search-documents==11.4.0a20230509004) (3.1.0)\n",
      "Requirement already satisfied: idna<4,>=2.5 in c:\\apps\\python\\python311\\lib\\site-packages (from requests>=2.18.4->azure-core<2.0.0,>=1.24.0->azure-search-documents==11.4.0a20230509004) (3.4)\n",
      "Requirement already satisfied: urllib3<3,>=1.21.1 in c:\\apps\\python\\python311\\lib\\site-packages (from requests>=2.18.4->azure-core<2.0.0,>=1.24.0->azure-search-documents==11.4.0a20230509004) (2.0.2)\n",
      "Requirement already satisfied: certifi>=2017.4.17 in c:\\apps\\python\\python311\\lib\\site-packages (from requests>=2.18.4->azure-core<2.0.0,>=1.24.0->azure-search-documents==11.4.0a20230509004) (2022.12.7)\n",
      "Requirement already satisfied: openai in c:\\apps\\python\\python311\\lib\\site-packages (0.27.7)\n",
      "Requirement already satisfied: requests>=2.20 in c:\\apps\\python\\python311\\lib\\site-packages (from openai) (2.30.0)\n",
      "Requirement already satisfied: tqdm in c:\\apps\\python\\python311\\lib\\site-packages (from openai) (4.65.0)\n",
      "Requirement already satisfied: aiohttp in c:\\apps\\python\\python311\\lib\\site-packages (from openai) (3.8.4)\n",
      "Requirement already satisfied: charset-normalizer<4,>=2 in c:\\apps\\python\\python311\\lib\\site-packages (from requests>=2.20->openai) (3.1.0)\n",
      "Requirement already satisfied: idna<4,>=2.5 in c:\\apps\\python\\python311\\lib\\site-packages (from requests>=2.20->openai) (3.4)\n",
      "Requirement already satisfied: urllib3<3,>=1.21.1 in c:\\apps\\python\\python311\\lib\\site-packages (from requests>=2.20->openai) (2.0.2)\n",
      "Requirement already satisfied: certifi>=2017.4.17 in c:\\apps\\python\\python311\\lib\\site-packages (from requests>=2.20->openai) (2022.12.7)\n",
      "Requirement already satisfied: attrs>=17.3.0 in c:\\apps\\python\\python311\\lib\\site-packages (from aiohttp->openai) (23.1.0)\n",
      "Requirement already satisfied: multidict<7.0,>=4.5 in c:\\apps\\python\\python311\\lib\\site-packages (from aiohttp->openai) (6.0.4)\n",
      "Requirement already satisfied: async-timeout<5.0,>=4.0.0a3 in c:\\apps\\python\\python311\\lib\\site-packages (from aiohttp->openai) (4.0.2)\n",
      "Requirement already satisfied: yarl<2.0,>=1.0 in c:\\apps\\python\\python311\\lib\\site-packages (from aiohttp->openai) (1.9.2)\n",
      "Requirement already satisfied: frozenlist>=1.1.1 in c:\\apps\\python\\python311\\lib\\site-packages (from aiohttp->openai) (1.3.3)\n",
      "Requirement already satisfied: aiosignal>=1.1.2 in c:\\apps\\python\\python311\\lib\\site-packages (from aiohttp->openai) (1.3.1)\n",
      "Requirement already satisfied: colorama in c:\\apps\\python\\python311\\lib\\site-packages (from tqdm->openai) (0.4.6)\n",
      "Requirement already satisfied: python-dotenv in c:\\apps\\python\\python311\\lib\\site-packages (0.15.0)\n",
      "Requirement already satisfied: tenacity in c:\\apps\\python\\python311\\lib\\site-packages (8.2.2)\n"
     ]
    }
   ],
   "source": [
    "! pip install azure-search-documents==11.4.0a20230509004\n",
    "! pip install openai\n",
    "! pip install python-dotenv\n",
    "! pip install tenacity"
   ]
  },
  {
   "cell_type": "code",
   "execution_count": 2,
   "metadata": {},
   "outputs": [
    {
     "name": "stdout",
     "output_type": "stream",
     "text": [
      "Requirement already satisfied: openai[datalib] in c:\\apps\\python\\python311\\lib\\site-packages (0.27.7)\n",
      "Requirement already satisfied: requests>=2.20 in c:\\apps\\python\\python311\\lib\\site-packages (from openai[datalib]) (2.30.0)\n",
      "Requirement already satisfied: tqdm in c:\\apps\\python\\python311\\lib\\site-packages (from openai[datalib]) (4.65.0)\n",
      "Requirement already satisfied: aiohttp in c:\\apps\\python\\python311\\lib\\site-packages (from openai[datalib]) (3.8.4)\n",
      "Requirement already satisfied: numpy in c:\\apps\\python\\python311\\lib\\site-packages (from openai[datalib]) (1.24.3)\n",
      "Requirement already satisfied: pandas>=1.2.3 in c:\\apps\\python\\python311\\lib\\site-packages (from openai[datalib]) (2.0.2)\n",
      "Requirement already satisfied: pandas-stubs>=1.1.0.11 in c:\\apps\\python\\python311\\lib\\site-packages (from openai[datalib]) (2.0.2.230605)\n",
      "Requirement already satisfied: openpyxl>=3.0.7 in c:\\apps\\python\\python311\\lib\\site-packages (from openai[datalib]) (3.1.2)\n",
      "Requirement already satisfied: et-xmlfile in c:\\apps\\python\\python311\\lib\\site-packages (from openpyxl>=3.0.7->openai[datalib]) (1.1.0)\n",
      "Requirement already satisfied: python-dateutil>=2.8.2 in c:\\apps\\python\\python311\\lib\\site-packages (from pandas>=1.2.3->openai[datalib]) (2.8.2)\n",
      "Requirement already satisfied: pytz>=2020.1 in c:\\apps\\python\\python311\\lib\\site-packages (from pandas>=1.2.3->openai[datalib]) (2023.3)\n",
      "Requirement already satisfied: tzdata>=2022.1 in c:\\apps\\python\\python311\\lib\\site-packages (from pandas>=1.2.3->openai[datalib]) (2023.3)\n",
      "Requirement already satisfied: types-pytz>=2022.1.1 in c:\\apps\\python\\python311\\lib\\site-packages (from pandas-stubs>=1.1.0.11->openai[datalib]) (2023.3.0.0)\n",
      "Requirement already satisfied: charset-normalizer<4,>=2 in c:\\apps\\python\\python311\\lib\\site-packages (from requests>=2.20->openai[datalib]) (3.1.0)\n",
      "Requirement already satisfied: idna<4,>=2.5 in c:\\apps\\python\\python311\\lib\\site-packages (from requests>=2.20->openai[datalib]) (3.4)\n",
      "Requirement already satisfied: urllib3<3,>=1.21.1 in c:\\apps\\python\\python311\\lib\\site-packages (from requests>=2.20->openai[datalib]) (2.0.2)\n",
      "Requirement already satisfied: certifi>=2017.4.17 in c:\\apps\\python\\python311\\lib\\site-packages (from requests>=2.20->openai[datalib]) (2022.12.7)\n",
      "Requirement already satisfied: attrs>=17.3.0 in c:\\apps\\python\\python311\\lib\\site-packages (from aiohttp->openai[datalib]) (23.1.0)\n",
      "Requirement already satisfied: multidict<7.0,>=4.5 in c:\\apps\\python\\python311\\lib\\site-packages (from aiohttp->openai[datalib]) (6.0.4)\n",
      "Requirement already satisfied: async-timeout<5.0,>=4.0.0a3 in c:\\apps\\python\\python311\\lib\\site-packages (from aiohttp->openai[datalib]) (4.0.2)\n",
      "Requirement already satisfied: yarl<2.0,>=1.0 in c:\\apps\\python\\python311\\lib\\site-packages (from aiohttp->openai[datalib]) (1.9.2)\n",
      "Requirement already satisfied: frozenlist>=1.1.1 in c:\\apps\\python\\python311\\lib\\site-packages (from aiohttp->openai[datalib]) (1.3.3)\n",
      "Requirement already satisfied: aiosignal>=1.1.2 in c:\\apps\\python\\python311\\lib\\site-packages (from aiohttp->openai[datalib]) (1.3.1)\n",
      "Requirement already satisfied: colorama in c:\\apps\\python\\python311\\lib\\site-packages (from tqdm->openai[datalib]) (0.4.6)\n",
      "Requirement already satisfied: six>=1.5 in c:\\apps\\python\\python311\\lib\\site-packages (from python-dateutil>=2.8.2->pandas>=1.2.3->openai[datalib]) (1.16.0)\n"
     ]
    }
   ],
   "source": [
    "! pip install openai[datalib]"
   ]
  },
  {
   "attachments": {},
   "cell_type": "markdown",
   "metadata": {},
   "source": [
    "## Import required libraries and environment variables"
   ]
  },
  {
   "cell_type": "code",
   "execution_count": 2,
   "metadata": {},
   "outputs": [],
   "source": [
    "# Import required libraries  \n",
    "import os  \n",
    "import json  \n",
    "import openai  \n",
    "from dotenv import load_dotenv  \n",
    "from tenacity import retry, wait_random_exponential, stop_after_attempt  \n",
    "from azure.core.credentials import AzureKeyCredential  \n",
    "from azure.search.documents import SearchClient  \n",
    "from azure.search.documents.indexes import SearchIndexClient  \n",
    "from azure.search.documents.models import Vector  \n",
    "from azure.search.documents.indexes.models import (  \n",
    "    SearchIndex,  \n",
    "    SearchField,  \n",
    "    SearchFieldDataType,  \n",
    "    SimpleField,  \n",
    "    SearchableField,  \n",
    "    SearchIndex,  \n",
    "    SemanticConfiguration,  \n",
    "    PrioritizedFields,  \n",
    "    SemanticField,  \n",
    "    SearchField,  \n",
    "    SemanticSettings,  \n",
    "    VectorSearch,  \n",
    "    VectorSearchAlgorithmConfiguration,  \n",
    ")  \n",
    "  \n",
    "# Configure environment variables  \n",
    "load_dotenv()  \n",
    "service_endpoint = os.getenv(\"AZURE_SEARCH_SERVICE_ENDPOINT\")  \n",
    "index_name = os.getenv(\"AZURE_SEARCH_INDEX_NAME\")  \n",
    "key = os.getenv(\"AZURE_SEARCH_ADMIN_KEY\") \n",
    "AZURE_OPENAI_CHATGPT_DEPLOYMENT = os.environ.get(\"AZURE_OPENAI_CHATGPT_DEPLOYMENT\") or \"gpt35-turbo-test\" \n",
    "openai.api_type = \"azure\"  \n",
    "openai.api_key = os.getenv(\"OPENAI_API_KEY\")  \n",
    "openai.api_base = os.getenv(\"OPENAI_ENDPOINT\")  \n",
    "openai.api_version = os.getenv(\"OPENAI_API_VERSION\")  \n",
    "#print(f\"AZURE_SEARCH_ADMIN_KEY: [{key}]\") \n",
    "credential = AzureKeyCredential(key)"
   ]
  },
  {
   "cell_type": "code",
   "execution_count": 8,
   "metadata": {},
   "outputs": [],
   "source": [
    "# ChatGPT uses a particular set of tokens to indicate turns in conversations\n",
    "prompt_prefix = \"\"\"<|im_start|>system\n",
    "Assistant helps the company employees with their questions on company policies, roles. \n",
    "Answer ONLY with the facts listed in the list of sources below. If there isn't enough information below, say you don't know. Do not generate answers that don't use the sources below. If asking a clarifying question to the user would help, ask the question. \n",
    "Each source file has a name followed by colon and by source page  followed by second colon and the actual information, always include the source name for each fact you use in the response. Use square brakets to reference the source file and source page, separate souefile and sourcepage by colon, e.g. [role_library.pdf:role_library-6.pdf]. Don't combine sources, list each source separately, e.g. [role_library.pdf:role_library-1.pdf][role_library.pdf:role_library-6.pdf].\n",
    "\n",
    "Sources:\n",
    "{sources}\n",
    "\n",
    "<|im_end|>\"\"\"\n",
    "\n",
    "turn_prefix = \"\"\"\n",
    "<|im_start|>user\n",
    "\"\"\"\n",
    "\n",
    "turn_suffix = \"\"\"\n",
    "<|im_end|>\n",
    "<|im_start|>assistant\n",
    "\"\"\"\n",
    "\n",
    "prompt_history = turn_prefix\n",
    "\n",
    "history = []\n",
    "\n",
    "summary_prompt_template = \"\"\"Below is a summary of the conversation so far, and a new question asked by the user that needs to be answered by searching in a knowledge base. Generate a search query based on the conversation and the new question. Source names are not good search terms to include in the search query.\n",
    "\n",
    "Summary:\n",
    "{summary}\n",
    "\n",
    "Question:\n",
    "{question}\n",
    "\n",
    "Search query:\n",
    "\"\"\""
   ]
  },
  {
   "attachments": {},
   "cell_type": "markdown",
   "metadata": {},
   "source": [
    "## Create your search index\n",
    "Create your search index schema and vector search configuration:"
   ]
  },
  {
   "cell_type": "code",
   "execution_count": 5,
   "metadata": {},
   "outputs": [
    {
     "name": "stdout",
     "output_type": "stream",
     "text": [
      " test-vector-index-pdf created\n"
     ]
    }
   ],
   "source": [
    "# Create a search index\n",
    "index_client = SearchIndexClient(\n",
    "    endpoint=service_endpoint, credential=credential)\n",
    "fields = [\n",
    "    SimpleField(name=\"id\", type=SearchFieldDataType.String, key=True),\n",
    "#    SearchableField(name=\"title\", type=SearchFieldDataType.String,\n",
    "#                    searchable=True, retrievable=True),\n",
    "    SearchableField(name=\"content\", type=SearchFieldDataType.String,\n",
    "                    searchable=True, retrievable=True),\n",
    "    SearchableField(name=\"category\", type=SearchFieldDataType.String,\n",
    "                    filterable=True, searchable=True, retrievable=True),\n",
    "    SimpleField(name=\"sourcepage\", type=\"Edm.String\", filterable=True, facetable=True),\n",
    "    SimpleField(name=\"sourcefile\", type=\"Edm.String\", filterable=True, facetable=True),\n",
    "#    SearchField(name=\"titleVector\", type=SearchFieldDataType.Collection(SearchFieldDataType.Single),\n",
    "#                searchable=True, dimensions=1536, vector_search_configuration=\"my-vector-config\"),\n",
    "    SearchField(name=\"contentVector\", type=SearchFieldDataType.Collection(SearchFieldDataType.Single),\n",
    "                searchable=True, dimensions=1536, vector_search_configuration=\"my-vector-config\"),\n",
    "]\n",
    "\n",
    "vector_search = VectorSearch(\n",
    "    algorithm_configurations=[\n",
    "        VectorSearchAlgorithmConfiguration(\n",
    "            name=\"my-vector-config\",\n",
    "            kind=\"hnsw\",\n",
    "            hnsw_parameters={\n",
    "                \"m\": 4,\n",
    "                \"efConstruction\": 400,\n",
    "                \"efSearch\": 1000,\n",
    "                \"metric\": \"cosine\"\n",
    "            }\n",
    "        )\n",
    "    ]\n",
    ")\n",
    "\n",
    "semantic_config = SemanticConfiguration(\n",
    "    name=\"my-semantic-config\",\n",
    "    prioritized_fields=PrioritizedFields(\n",
    "#        title_field=SemanticField(field_name=\"title\"),\n",
    "        prioritized_keywords_fields=[SemanticField(field_name=\"category\")],\n",
    "        prioritized_content_fields=[SemanticField(field_name=\"content\")]\n",
    "    )\n",
    ")\n",
    "\n",
    "# Create the semantic settings with the configuration\n",
    "semantic_settings = SemanticSettings(configurations=[semantic_config])\n",
    "\n",
    "# Create the search index with the semantic settings\n",
    "index = SearchIndex(name=index_name, fields=fields,\n",
    "                    vector_search=vector_search, semantic_settings=semantic_settings)\n",
    "result = index_client.create_or_update_index(index)\n",
    "print(f' {result.name} created')\n"
   ]
  },
  {
   "attachments": {},
   "cell_type": "markdown",
   "metadata": {},
   "source": [
    "## Perform a vector similarity search"
   ]
  },
  {
   "cell_type": "code",
   "execution_count": 9,
   "metadata": {},
   "outputs": [
    {
     "name": "stdout",
     "output_type": "stream",
     "text": [
      "user: What are responsibilities of a Vice President of Human Resources and Manager of Human Resources\n",
      "-------------------\n",
      "assistant: The responsibilities of a Vice President of Human Resources [role_library.pdf: role_library-8.pdf] include:\n",
      "- Developing, implementing and monitoring comprehensive HR strategies and initiatives\n",
      "- Collaborating with other departments to ensure alignment of HR initiatives with the company’s overall strategy\n",
      "- Overseeing the recruitment and onboarding process\n",
      "- Developing, implementing and monitoring training and development initiatives\n",
      "- Managing employee relations, including conflict resolution, disciplinary action and performance management\n",
      "- Developing and implementing compensation and benefit plans\n",
      "- Tracking and analyzing HR metrics\n",
      "- Ensuring compliance with all applicable laws and regulations\n",
      "- Developing and monitoring HR budgets\n",
      "- Staying up-to-date on the latest HR trends and best practices\n",
      "\n",
      "The responsibilities of a Manager of Human Resources [role_library.pdf: role_library-26.pdf] include:\n",
      "- Developing, implementing, and monitoring human resources policies and procedures\n",
      "- Overseeing the recruitment and selection process\n",
      "- Monitoring employee performance and providing feedback and coaching as necessary\n",
      "- Developing compensation and benefit strategies to attract and retain top talent\n",
      "- Handling employee relations issues such as disciplinary actions, grievances, and performance management\n",
      "- Ensuring compliance with all applicable labor laws and regulations\n",
      "- Developing and maintaining relationships with external vendors and service providers\n",
      "- Monitoring and analyzing employee engagement and satisfaction\n",
      "- Ensuring a safe and healthy work environment\n",
      "- Leading the Human Resources department in a manner that supports and guides the achievement of the overall business objectives of the organization.\n",
      "\n",
      "-------------------\n",
      "Source:\n",
      "<|im_start|>system\n",
      "Assistant helps the company employees with their questions on company policies, roles. \n",
      "Answer ONLY with the facts listed in the list of sources below. If there isn't enough information below, say you don't know. Do not generate answers that don't use the sources below. If asking a clarifying question to the user would help, ask the question. \n",
      "Each source file has a name followed by colon and by source page  followed by second colon and the actual information, always include the source name for each fact you use in the response. Use square brakets to reference the source file and source page, separate souefile and sourcepage by colon, e.g. [role_library.pdf:role_library-6.pdf]. Don't combine sources, list each source separately, e.g. [role_library.pdf:role_library-1.pdf][role_library.pdf:role_library-6.pdf].\n",
      "\n",
      "Sources:\n",
      "role_library.pdf: role_library-8.pdf: ResourcesJob Title: Vice President of Human ResourcesCompany: Contoso Electronics Location: Anywhere, USAPosition Summary:The Vice President of Human Resources for Contoso Electronics will be responsible for leading the Human Resources team in developing and implementing strategies that support the company’s long-term objectives. The Vice President of Human Resources will be responsible for driving the company’s overall HR strategy and policies, and will be the primary contact for all HR-related matters.Responsibilities:• Develop, implement and monitor comprehensive HR strategies and initiatives• Foster a positive and productive work environment• Collaborate with other departments to ensure alignment of HR initiatives with the company’s overall strategy• Oversee the recruitment and onboarding process• Develop, implement and monitor training and development initiatives• Manage employee relations, including conflict resolution, disciplinary action and performance management• Develop and implement compensation and benefit plans• Track and analyze HR metrics• Ensure compliance with all applicable laws and regulations• Develop and monitor HR budgets• Stay up-to-date \n",
      "role_library.pdf: role_library-9.pdf: management• Develop and implement compensation and benefit plans• Track and analyze HR metrics• Ensure compliance with all applicable laws and regulations• Develop and monitor HR budgets• Stay up-to-date on the latest HR trends and best practicesQualifications:• Bachelor’s Degree in Human Resources, Business Administration or related field• Proven work experience as a VP of Human Resources or similar role• Demonstrated leadership experience• Excellent interpersonal and communication skills• Knowledge of labor laws and regulations• Strong analytical, problem-solving and decision-making skills• Ability to lead and motivate teams• Proficiency in Microsoft Office SuiteVice President of Research and DevelopmentJob Title: Vice President of Research and Development, Contoso ElectronicsJob Summary:The Vice President of Research and Development is responsible for leading Contoso Electronics’ research and development activities and initiatives. This position will focus on innovating new products and technologies, and driving the product roadmap.Responsibilities:• Develop a comprehensive research and development strategy in line with the company’s overall objectives.\n",
      "role_library.pdf: role_library-8.pdf: • Develop short- and long-term goals and objectives to ensure organizational success.• Identify and implement process improvements to increase efficiency.• Ensure safety standards and legal regulations are met.• Stay up-to-date with industry trends and best practices.Qualifications:• Bachelor’s degree in business, operations, or a related field.• 10+ years of experience in operations management and/or business operations.• Proven track record of successfully leading operational teams and achieving organizational goals.• Excellent problem-solving and decision-making skills.• Strong project management and organizational skills.• Ability to manage multiple tasks and prioritize effectively.• Excellent communication and interpersonal skills.• Proficiency in Microsoft Office and other relevant software.• Ability to work in a fast-paced environment.• Knowledge of industry regulations and safety standards.Vice President of Human ResourcesJob Title: Vice President of Human ResourcesCompany: Contoso Electronics Location: Anywhere, USAPosition Summary:The Vice President of Human Resources for Contoso Electronics will be \n",
      "role_library.pdf: role_library-26.pdf:  The Manager will be responsible for developing and executing strategies to support the company’s overall strategic objectives and driving operational excellence in all areas of human resources.Responsibilities:• Develop, implement, and monitor human resources policies and procedures.• Oversee the recruitment and selection process, ensuring that hiring and promotion decisions are made in compliance with applicable laws and regulations.• Monitor employee performance, providing feedback and coaching as necessary.• Develop compensation and benefit strategies to attract and retain top talent.• Handle employee relations issues such as disciplinary actions, grievances, and performance management.• Ensure compliance with all applicable labor laws and regulations.• Develop and maintain relationships with external vendors and service providers.• Monitor and analyze employee engagement and satisfaction.• Ensure a safe and healthy work environment. • Lead the Human Resources department in a manner that supports and guides the achievement of the overall business objectives of the organization.\n",
      "role_library.pdf: role_library-20.pdf: training and development programs• Monitor and evaluate performance management processes• Develop and maintain company policies and procedures• Ensure compliance with all applicable employment laws and regulations• Provide guidance and support to managers and supervisors on employee relations matters• Oversee the performance appraisal process and ensure that performance objectives are met• Assist with salary and compensation reviews• Manage employee benefits and retirement plans• Manage employee relations and handle employee disputes• Organize employee activities and team-building eventsQualifications:• Bachelor’s degree in Human Resources or a related field • Proven experience as a Human Resources Manager or similar role• Experience in developing and implementing HR strategies, policies, and procedures• Excellent knowledge of labor laws and employee benefits• Strong leadership, interpersonal, and communication skills• Ability to analyze and interpret data• Proficiency in MS Office, HRIS systems, and other related software• Certification in Human Resources (e.g. PHR or SHRM-CP) is preferredSenior Manager of Research and DevelopmentJob Title: Senior Manager of \n",
      "role_library.pdf: role_library-20.pdf: • Proficiency with Microsoft Office Suite, project management software, and other related software.Senior Manager of Human ResourcesJob Title: Senior Manager of Human Resources Company: Contoso ElectronicsOverview:Contoso Electronics is looking for an experienced Senior Manager of Human Resources to join their team. This position will be responsible for overseeing the recruitment, development, and retention of employees at all levels of the company. The Senior Manager of Human Resources will provide leadership and direction to the Human Resources team, ensuring that all processes and procedures are followed and that the department meets its goals and objectives.Responsibilities:• Develop and implement human resources strategies and initiatives that align with the overall business goals and objectives• Lead the recruitment process, including sourcing, screening, interviewing, and onboarding new employees• Oversee the development and implementation of employee training and development programs• Monitor and evaluate performance management processes• Develop and maintain company policies and procedures• Ensure compliance with all applicable employment laws and \n",
      "\n",
      "<|im_end|>\n",
      "<|im_start|>user\n",
      "What are responsibilities of a Vice President of Human Resources and Manager of Human Resources\n",
      "<|im_end|>\n",
      "<|im_start|>assistant\n",
      "\n",
      "\n",
      "-------------------\n",
      "Prompt:\n",
      "<|im_start|>system\n",
      "Assistant helps the company employees with their questions on company policies, roles. \n",
      "Answer ONLY with the facts listed in the list of sources below. If there isn't enough information below, say you don't know. Do not generate answers that don't use the sources below. If asking a clarifying question to the user would help, ask the question. \n",
      "Each source file has a name followed by colon and by source page  followed by second colon and the actual information, always include the source name for each fact you use in the response. Use square brakets to reference the source file and source page, separate souefile and sourcepage by colon, e.g. [role_library.pdf:role_library-6.pdf]. Don't combine sources, list each source separately, e.g. [role_library.pdf:role_library-1.pdf][role_library.pdf:role_library-6.pdf].\n",
      "\n",
      "Sources:\n",
      "role_library.pdf: role_library-8.pdf: ResourcesJob Title: Vice President of Human ResourcesCompany: Contoso Electronics Location: Anywhere, USAPosition Summary:The Vice President of Human Resources for Contoso Electronics will be responsible for leading the Human Resources team in developing and implementing strategies that support the company’s long-term objectives. The Vice President of Human Resources will be responsible for driving the company’s overall HR strategy and policies, and will be the primary contact for all HR-related matters.Responsibilities:• Develop, implement and monitor comprehensive HR strategies and initiatives• Foster a positive and productive work environment• Collaborate with other departments to ensure alignment of HR initiatives with the company’s overall strategy• Oversee the recruitment and onboarding process• Develop, implement and monitor training and development initiatives• Manage employee relations, including conflict resolution, disciplinary action and performance management• Develop and implement compensation and benefit plans• Track and analyze HR metrics• Ensure compliance with all applicable laws and regulations• Develop and monitor HR budgets• Stay up-to-date \n",
      "role_library.pdf: role_library-9.pdf: management• Develop and implement compensation and benefit plans• Track and analyze HR metrics• Ensure compliance with all applicable laws and regulations• Develop and monitor HR budgets• Stay up-to-date on the latest HR trends and best practicesQualifications:• Bachelor’s Degree in Human Resources, Business Administration or related field• Proven work experience as a VP of Human Resources or similar role• Demonstrated leadership experience• Excellent interpersonal and communication skills• Knowledge of labor laws and regulations• Strong analytical, problem-solving and decision-making skills• Ability to lead and motivate teams• Proficiency in Microsoft Office SuiteVice President of Research and DevelopmentJob Title: Vice President of Research and Development, Contoso ElectronicsJob Summary:The Vice President of Research and Development is responsible for leading Contoso Electronics’ research and development activities and initiatives. This position will focus on innovating new products and technologies, and driving the product roadmap.Responsibilities:• Develop a comprehensive research and development strategy in line with the company’s overall objectives.\n",
      "role_library.pdf: role_library-8.pdf: • Develop short- and long-term goals and objectives to ensure organizational success.• Identify and implement process improvements to increase efficiency.• Ensure safety standards and legal regulations are met.• Stay up-to-date with industry trends and best practices.Qualifications:• Bachelor’s degree in business, operations, or a related field.• 10+ years of experience in operations management and/or business operations.• Proven track record of successfully leading operational teams and achieving organizational goals.• Excellent problem-solving and decision-making skills.• Strong project management and organizational skills.• Ability to manage multiple tasks and prioritize effectively.• Excellent communication and interpersonal skills.• Proficiency in Microsoft Office and other relevant software.• Ability to work in a fast-paced environment.• Knowledge of industry regulations and safety standards.Vice President of Human ResourcesJob Title: Vice President of Human ResourcesCompany: Contoso Electronics Location: Anywhere, USAPosition Summary:The Vice President of Human Resources for Contoso Electronics will be \n",
      "role_library.pdf: role_library-26.pdf:  The Manager will be responsible for developing and executing strategies to support the company’s overall strategic objectives and driving operational excellence in all areas of human resources.Responsibilities:• Develop, implement, and monitor human resources policies and procedures.• Oversee the recruitment and selection process, ensuring that hiring and promotion decisions are made in compliance with applicable laws and regulations.• Monitor employee performance, providing feedback and coaching as necessary.• Develop compensation and benefit strategies to attract and retain top talent.• Handle employee relations issues such as disciplinary actions, grievances, and performance management.• Ensure compliance with all applicable labor laws and regulations.• Develop and maintain relationships with external vendors and service providers.• Monitor and analyze employee engagement and satisfaction.• Ensure a safe and healthy work environment. • Lead the Human Resources department in a manner that supports and guides the achievement of the overall business objectives of the organization.\n",
      "role_library.pdf: role_library-20.pdf: training and development programs• Monitor and evaluate performance management processes• Develop and maintain company policies and procedures• Ensure compliance with all applicable employment laws and regulations• Provide guidance and support to managers and supervisors on employee relations matters• Oversee the performance appraisal process and ensure that performance objectives are met• Assist with salary and compensation reviews• Manage employee benefits and retirement plans• Manage employee relations and handle employee disputes• Organize employee activities and team-building eventsQualifications:• Bachelor’s degree in Human Resources or a related field • Proven experience as a Human Resources Manager or similar role• Experience in developing and implementing HR strategies, policies, and procedures• Excellent knowledge of labor laws and employee benefits• Strong leadership, interpersonal, and communication skills• Ability to analyze and interpret data• Proficiency in MS Office, HRIS systems, and other related software• Certification in Human Resources (e.g. PHR or SHRM-CP) is preferredSenior Manager of Research and DevelopmentJob Title: Senior Manager of \n",
      "role_library.pdf: role_library-20.pdf: • Proficiency with Microsoft Office Suite, project management software, and other related software.Senior Manager of Human ResourcesJob Title: Senior Manager of Human Resources Company: Contoso ElectronicsOverview:Contoso Electronics is looking for an experienced Senior Manager of Human Resources to join their team. This position will be responsible for overseeing the recruitment, development, and retention of employees at all levels of the company. The Senior Manager of Human Resources will provide leadership and direction to the Human Resources team, ensuring that all processes and procedures are followed and that the department meets its goals and objectives.Responsibilities:• Develop and implement human resources strategies and initiatives that align with the overall business goals and objectives• Lead the recruitment process, including sourcing, screening, interviewing, and onboarding new employees• Oversee the development and implementation of employee training and development programs• Monitor and evaluate performance management processes• Develop and maintain company policies and procedures• Ensure compliance with all applicable employment laws and \n",
      "\n",
      "<|im_end|>\n",
      "<|im_start|>user\n",
      "What are responsibilities of a Vice President of Human Resources and Manager of Human Resources\n",
      "<|im_end|>\n",
      "<|im_start|>assistant\n",
      "\n"
     ]
    },
    {
     "data": {
      "text/plain": [
       "'for result in results:  \\n    print(f\"sourcepage: {result[\\'sourcepage\\']}\")  \\n    print(f\"Score: {result[\\'@search.score\\']}\")  \\n    print(f\"Content: {result[\\'content\\']}\")  \\n    print(f\"Category: {result[\\'category\\']}\\n\")  '"
      ]
     },
     "execution_count": 9,
     "metadata": {},
     "output_type": "execute_result"
    }
   ],
   "source": [
    "# Pure Vector Search\n",
    "#user_input = \"What is the difference in responsibilities between a Vice President of Human Resources and Manager of Human Resources\"  \n",
    "user_input = \"What are responsibilities of a Vice President of Human Resources and Manager of Human Resources\"  \n",
    "\n",
    "# Exclude category, to simulate scenarios where there's a set of docs you can't see\n",
    "exclude_category = None\n",
    "\n",
    "query = user_input\n",
    "\n",
    "search_client = SearchClient(service_endpoint, index_name, AzureKeyCredential(key))  \n",
    "\n",
    "def generate_embeddings(text):\n",
    "    response = openai.Embedding.create(\n",
    "        input=text, engine=\"ada-embed-test\")\n",
    "    embeddings = response['data'][0]['embedding']\n",
    "    return embeddings\n",
    "\n",
    "r = search_client.search(  \n",
    "    search_text=\"\",  \n",
    "    vector=Vector(value=generate_embeddings(query), k=6, fields=\"contentVector\"),  \n",
    "    select=[\"content\", \"sourcefile\", \"sourcepage\"] \n",
    ")  \n",
    "\n",
    "results = [doc['sourcefile'] + \": \"+doc['sourcepage'] + \": \" + doc['content'].replace(\"\\n\", \"\").replace(\"\\r\", \"\") for doc in r]\n",
    "\n",
    "content = \"\\n\".join(results)\n",
    "\n",
    "prompt = prompt_prefix.format(sources=content) + prompt_history + user_input + turn_suffix\n",
    "\n",
    "completion = openai.Completion.create(\n",
    "    engine=AZURE_OPENAI_CHATGPT_DEPLOYMENT, \n",
    "    prompt=prompt, \n",
    "    temperature=0.7, \n",
    "    max_tokens=1024,\n",
    "    stop=[\"<|im_end|>\", \"<|im_start|>\"])\n",
    "\n",
    "prompt_history += user_input + turn_suffix + completion.choices[0].text + \"\\n<|im_end|>\" + turn_prefix\n",
    "history.append(\"user: \" + user_input)\n",
    "history.append(\"assistant: \" + completion.choices[0].text)\n",
    "\n",
    "print(\"\\n-------------------\\n\".join(history))\n",
    "print(\"\\n-------------------\\nSource:\\n\" + prompt)\n",
    "print(\"\\n-------------------\\nPrompt:\\n\" + prompt)\n",
    "\n",
    "\"\"\"for result in results:  \n",
    "    print(f\"sourcepage: {result['sourcepage']}\")  \n",
    "    print(f\"Score: {result['@search.score']}\")  \n",
    "    print(f\"Content: {result['content']}\")  \n",
    "    print(f\"Category: {result['category']}\\n\")  \"\"\"\n"
   ]
  },
  {
   "cell_type": "markdown",
   "metadata": {},
   "source": [
    "## Perform a vector similarity search"
   ]
  },
  {
   "cell_type": "code",
   "execution_count": 6,
   "metadata": {},
   "outputs": [
    {
     "name": "stdout",
     "output_type": "stream",
     "text": [
      "Title: Azure DevOps\n",
      "Score: 0.80402035\n",
      "Content: Azure DevOps is a suite of services that help you plan, build, and deploy applications. It includes Azure Boards for work item tracking, Azure Repos for source code management, Azure Pipelines for continuous integration and continuous deployment, Azure Test Plans for manual and automated testing, and Azure Artifacts for package management. DevOps supports a wide range of programming languages, frameworks, and platforms, making it easy to integrate with your existing development tools and processes. It also integrates with other Azure services, such as Azure App Service and Azure Functions.\n",
      "Category: Developer Tools\n",
      "\n",
      "Title: Azure DevTest Labs\n",
      "Score: 0.79679435\n",
      "Content: Azure DevTest Labs is a fully managed service that enables you to create, manage, and share development and test environments in Azure. It provides features like custom templates, cost management, and integration with Azure DevOps. DevTest Labs supports various platforms, such as Windows, Linux, and Kubernetes. You can use Azure DevTest Labs to improve your application development lifecycle, reduce your costs, and ensure the consistency of your environments. It also integrates with other Azure services, such as Azure Virtual Machines and Azure App Service.\n",
      "Category: Developer Tools\n",
      "\n",
      "Title: Azure Mobile Apps\n",
      "Score: 0.795129\n",
      "Content: Azure Mobile Apps is a mobile app development platform that enables you to build, test, deploy, and monitor your mobile applications. It provides features like offline data sync, push notifications, and user authentication. Mobile Apps supports various platforms, including iOS, Android, and Windows. You can use Mobile Apps to build cross-platform applications, integrate with other Azure services, and improve your app development lifecycle. It also integrates with other Azure services, such as Azure Notification Hubs and Azure App Service.\n",
      "Category: Mobile\n",
      "\n"
     ]
    }
   ],
   "source": [
    "# Pure Vector Search multi-lingual (e.g 'tools for software development' in Dutch)  \n",
    "query = \"tools voor softwareontwikkeling\"  \n",
    "  \n",
    "search_client = SearchClient(service_endpoint, index_name, AzureKeyCredential(key))  \n",
    "  \n",
    "results = search_client.search(  \n",
    "    search_text=\"\",  \n",
    "    vector=Vector(value=generate_embeddings(query), k=3, fields=\"contentVector\"),  \n",
    "    select=[\"title\", \"content\", \"category\"]  \n",
    ")  \n",
    "  \n",
    "for result in results:  \n",
    "    print(f\"Title: {result['title']}\")  \n",
    "    print(f\"Score: {result['@search.score']}\")  \n",
    "    print(f\"Content: {result['content']}\")  \n",
    "    print(f\"Category: {result['category']}\\n\")  \n"
   ]
  },
  {
   "attachments": {},
   "cell_type": "markdown",
   "metadata": {},
   "source": [
    "## Perform a Pure Vector Search with a filter"
   ]
  },
  {
   "cell_type": "code",
   "execution_count": 7,
   "metadata": {},
   "outputs": [
    {
     "name": "stdout",
     "output_type": "stream",
     "text": [
      "Title: Azure DevOps\n",
      "Score: 0.82971567\n",
      "Content: Azure DevOps is a suite of services that help you plan, build, and deploy applications. It includes Azure Boards for work item tracking, Azure Repos for source code management, Azure Pipelines for continuous integration and continuous deployment, Azure Test Plans for manual and automated testing, and Azure Artifacts for package management. DevOps supports a wide range of programming languages, frameworks, and platforms, making it easy to integrate with your existing development tools and processes. It also integrates with other Azure services, such as Azure App Service and Azure Functions.\n",
      "Category: Developer Tools\n",
      "\n",
      "Title: Azure DevTest Labs\n",
      "Score: 0.81866795\n",
      "Content: Azure DevTest Labs is a fully managed service that enables you to create, manage, and share development and test environments in Azure. It provides features like custom templates, cost management, and integration with Azure DevOps. DevTest Labs supports various platforms, such as Windows, Linux, and Kubernetes. You can use Azure DevTest Labs to improve your application development lifecycle, reduce your costs, and ensure the consistency of your environments. It also integrates with other Azure services, such as Azure Virtual Machines and Azure App Service.\n",
      "Category: Developer Tools\n",
      "\n"
     ]
    }
   ],
   "source": [
    "# Pure Vector Search with Filter\n",
    "query = \"tools for software development\"  \n",
    "  \n",
    "search_client = SearchClient(service_endpoint, index_name, AzureKeyCredential(key))  \n",
    "  \n",
    "results = search_client.search(  \n",
    "    search_text=\"\",  \n",
    "    vector=Vector(value=generate_embeddings(query), k=3, fields=\"contentVector\"),  \n",
    "    filter=\"category eq 'Developer Tools'\",\n",
    "    select=[\"title\", \"content\", \"category\"] \n",
    ")  \n",
    "  \n",
    "for result in results:  \n",
    "    print(f\"Title: {result['title']}\")  \n",
    "    print(f\"Score: {result['@search.score']}\")  \n",
    "    print(f\"Content: {result['content']}\")  \n",
    "    print(f\"Category: {result['category']}\\n\")  \n"
   ]
  },
  {
   "attachments": {},
   "cell_type": "markdown",
   "metadata": {},
   "source": [
    "## Perform a Hybrid Search"
   ]
  },
  {
   "cell_type": "code",
   "execution_count": 8,
   "metadata": {},
   "outputs": [
    {
     "name": "stdout",
     "output_type": "stream",
     "text": [
      "Title: Azure Storage\n",
      "Score: 0.03306011110544205\n",
      "Content: Azure Storage is a scalable, durable, and highly available cloud storage service that supports a variety of data types, including blobs, files, queues, and tables. It provides a massively scalable object store for unstructured data. Storage supports data redundancy and geo-replication, ensuring high durability and availability. It offers a variety of data access and management options, including REST APIs, SDKs, and Azure Portal. You can secure your data using encryption at rest and in transit.\n",
      "Category: Storage\n",
      "\n",
      "Title: Azure Table Storage\n",
      "Score: 0.032258063554763794\n",
      "Content: Azure Table Storage is a fully managed, NoSQL datastore that enables you to store and query large amounts of structured, non-relational data. It provides features like automatic scaling, schema-less design, and a RESTful API. Table Storage supports various data types, such as strings, numbers, and booleans. You can use Azure Table Storage to store and manage your data, build scalable applications, and reduce the cost of your storage. It also integrates with other Azure services, such as Azure Functions and Azure Cosmos DB.\n",
      "Category: Storage\n",
      "\n",
      "Title: Azure Blob Storage\n",
      "Score: 0.03205128386616707\n",
      "Content: Azure Blob Storage is a scalable, durable, and high-performance object storage service for unstructured data. It provides features like data redundancy, geo-replication, and fine-grained access control. Blob Storage supports various data types, such as images, documents, and videos. You can use Blob Storage to store and manage your data, build data lakes, and develop big data analytics solutions. It also integrates with other Azure services, such as Azure CDN, Azure Functions, and Azure Machine Learning.\n",
      "Category: Storage\n",
      "\n"
     ]
    }
   ],
   "source": [
    "# Hybrid Search\n",
    "query = \"scalable storage solution\"  \n",
    "  \n",
    "search_client = SearchClient(service_endpoint, index_name, AzureKeyCredential(key))  \n",
    "  \n",
    "results = search_client.search(  \n",
    "    search_text=query,  \n",
    "    vector=Vector(value=generate_embeddings(query), k=3, fields=\"contentVector\"),  \n",
    "    select=[\"title\", \"content\", \"category\"],\n",
    "    top=3\n",
    ")  \n",
    "  \n",
    "for result in results:  \n",
    "    print(f\"Title: {result['title']}\")  \n",
    "    print(f\"Score: {result['@search.score']}\")  \n",
    "    print(f\"Content: {result['content']}\")  \n",
    "    print(f\"Category: {result['category']}\\n\")  \n"
   ]
  },
  {
   "attachments": {},
   "cell_type": "markdown",
   "metadata": {},
   "source": [
    "## Perform a Semantic Hybrid Search"
   ]
  },
  {
   "cell_type": "code",
   "execution_count": 13,
   "metadata": {},
   "outputs": [
    {
     "name": "stdout",
     "output_type": "stream",
     "text": [
      "Semantic Answer: Azure Cognitive Search is<em> a fully managed search-as-a-service that enables you to build rich search experiences for your applications.</em> It provides features like full-text search, faceted navigation, and filters. Azure Cognitive Search supports various data sources, such as Azure SQL Database, Azure Blob Storage, and Azure Cosmos DB.\n",
      "Semantic Answer Score: 0.9462890625\n",
      "\n",
      "Title: Azure Cognitive Search\n",
      "Content: Azure Cognitive Search is a fully managed search-as-a-service that enables you to build rich search experiences for your applications. It provides features like full-text search, faceted navigation, and filters. Azure Cognitive Search supports various data sources, such as Azure SQL Database, Azure Blob Storage, and Azure Cosmos DB. You can use Azure Cognitive Search to index your data, create custom scoring profiles, and integrate with other Azure services. It also integrates with other Azure services, such as Azure Cognitive Services and Azure Machine Learning.\n",
      "Category: AI + Machine Learning\n",
      "Caption: <em>Azure Cognitive Search</em> is a fully managed search-as-a-service that enables you to build rich search experiences for your applications. It provides features like full-text search, faceted navigation, and filters.<em> Azure</em> Cognitive<em> Search</em> supports various data sources, such as Azure SQL Database, Azure Blob Storage, and Azure Cosmos DB.\n",
      "\n",
      "Title: Azure Stack Edge\n",
      "Content: Azure Stack Edge is a managed, edge computing appliance that enables you to run Azure services and AI workloads on-premises or at the edge. It provides features like hardware-accelerated machine learning, local caching, and integration with Azure IoT Hub. Azure Stack Edge supports various Azure services, such as Azure Functions, Azure Machine Learning, and Azure Kubernetes Service. You can use Azure Stack Edge to build edge computing applications, optimize your data processing, and ensure the security and compliance of your workloads. It also integrates with other Azure services, such as Azure Monitor and Azure Stack Hub.\n",
      "Category: Hybrid\n",
      "Caption: Azure Stack Edge is a managed, edge computing appliance that enables you to run Azure services and AI workloads on-premises or at the edge. It provides features like hardware-accelerated machine learning, local caching, and integration with Azure IoT Hub.\n",
      "\n",
      "Title: Azure File Storage\n",
      "Content: Azure File Storage is a fully managed, scalable, and secure file sharing service that enables you to store and access your files over the Server Message Block (SMB) protocol. It provides features like snapshots, shared access signatures, and integration with Azure Backup. File Storage supports various platforms, such as Windows, Linux, and macOS. You can use Azure File Storage to build file sharing solutions, lift and shift your applications to the cloud, and simplify your data management. It also integrates with other Azure services, such as Azure Virtual Machines and Azure Kubernetes Service.\n",
      "Category: Storage\n",
      "Caption: Azure File Storage is a fully managed, scalable, and secure file<em> sharing</em> service that enables you to store and access your files over the Server Message Block (SMB) protocol. It provides features like snapshots, shared access signatures, and integration with Azure Backup.<em> File Storage</em> supports various platforms, such as Windows, Linux, and macOS.\n",
      "\n"
     ]
    }
   ],
   "source": [
    "# Semantic Hybrid Search\n",
    "query = \"what is azure sarch?\"\n",
    "\n",
    "search_client = SearchClient(\n",
    "    service_endpoint, index_name, AzureKeyCredential(key))\n",
    "\n",
    "results = search_client.search(\n",
    "    search_text=query,\n",
    "    vector=Vector(value=generate_embeddings(\n",
    "        query), k=3, fields=\"contentVector\"),\n",
    "    select=[\"title\", \"content\", \"category\"],\n",
    "    query_type=\"semantic\", query_language=\"en-us\", semantic_configuration_name='my-semantic-config', query_caption=\"extractive\", query_answer=\"extractive\",\n",
    "    top=3\n",
    ")\n",
    "\n",
    "semantic_answers = results.get_answers()\n",
    "for answer in semantic_answers:\n",
    "    if answer.highlights:\n",
    "        print(f\"Semantic Answer: {answer.highlights}\")\n",
    "    else:\n",
    "        print(f\"Semantic Answer: {answer.text}\")\n",
    "    print(f\"Semantic Answer Score: {answer.score}\\n\")\n",
    "\n",
    "for result in results:\n",
    "    print(f\"Title: {result['title']}\")\n",
    "    print(f\"Content: {result['content']}\")\n",
    "    print(f\"Category: {result['category']}\")\n",
    "\n",
    "    captions = result[\"@search.captions\"]\n",
    "    if captions:\n",
    "        caption = captions[0]\n",
    "        if caption.highlights:\n",
    "            print(f\"Caption: {caption.highlights}\\n\")\n",
    "        else:\n",
    "            print(f\"Caption: {caption.text}\\n\")\n"
   ]
  }
 ],
 "metadata": {
  "kernelspec": {
   "display_name": "Python 3",
   "language": "python",
   "name": "python3"
  },
  "language_info": {
   "codemirror_mode": {
    "name": "ipython",
    "version": 3
   },
   "file_extension": ".py",
   "mimetype": "text/x-python",
   "name": "python",
   "nbconvert_exporter": "python",
   "pygments_lexer": "ipython3",
   "version": "3.11.2"
  },
  "orig_nbformat": 4
 },
 "nbformat": 4,
 "nbformat_minor": 2
}
